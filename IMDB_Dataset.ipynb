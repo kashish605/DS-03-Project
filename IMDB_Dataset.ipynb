{
  "nbformat": 4,
  "nbformat_minor": 0,
  "metadata": {
    "colab": {
      "provenance": [],
      "authorship_tag": "ABX9TyNWHu44QtgvKPpm4/fr4nSP",
      "include_colab_link": true
    },
    "kernelspec": {
      "name": "python3",
      "display_name": "Python 3"
    },
    "language_info": {
      "name": "python"
    }
  },
  "cells": [
    {
      "cell_type": "markdown",
      "metadata": {
        "id": "view-in-github",
        "colab_type": "text"
      },
      "source": [
        "<a href=\"https://colab.research.google.com/github/kashish605/DS-03-Project/blob/main/IMDB_Dataset.ipynb\" target=\"_parent\"><img src=\"https://colab.research.google.com/assets/colab-badge.svg\" alt=\"Open In Colab\"/></a>"
      ]
    },
    {
      "cell_type": "code",
      "source": [
        "from google.colab import files\n",
        "uploaded = files.upload()\n"
      ],
      "metadata": {
        "colab": {
          "base_uri": "https://localhost:8080/",
          "height": 74
        },
        "id": "8SKmoZPguHzw",
        "outputId": "4ae940bf-ecfd-409b-e734-b0e6aad31995"
      },
      "execution_count": 2,
      "outputs": [
        {
          "output_type": "display_data",
          "data": {
            "text/plain": [
              "<IPython.core.display.HTML object>"
            ],
            "text/html": [
              "\n",
              "     <input type=\"file\" id=\"files-50d312aa-b287-454c-8256-a4e5d090acfc\" name=\"files[]\" multiple disabled\n",
              "        style=\"border:none\" />\n",
              "     <output id=\"result-50d312aa-b287-454c-8256-a4e5d090acfc\">\n",
              "      Upload widget is only available when the cell has been executed in the\n",
              "      current browser session. Please rerun this cell to enable.\n",
              "      </output>\n",
              "      <script>// Copyright 2017 Google LLC\n",
              "//\n",
              "// Licensed under the Apache License, Version 2.0 (the \"License\");\n",
              "// you may not use this file except in compliance with the License.\n",
              "// You may obtain a copy of the License at\n",
              "//\n",
              "//      http://www.apache.org/licenses/LICENSE-2.0\n",
              "//\n",
              "// Unless required by applicable law or agreed to in writing, software\n",
              "// distributed under the License is distributed on an \"AS IS\" BASIS,\n",
              "// WITHOUT WARRANTIES OR CONDITIONS OF ANY KIND, either express or implied.\n",
              "// See the License for the specific language governing permissions and\n",
              "// limitations under the License.\n",
              "\n",
              "/**\n",
              " * @fileoverview Helpers for google.colab Python module.\n",
              " */\n",
              "(function(scope) {\n",
              "function span(text, styleAttributes = {}) {\n",
              "  const element = document.createElement('span');\n",
              "  element.textContent = text;\n",
              "  for (const key of Object.keys(styleAttributes)) {\n",
              "    element.style[key] = styleAttributes[key];\n",
              "  }\n",
              "  return element;\n",
              "}\n",
              "\n",
              "// Max number of bytes which will be uploaded at a time.\n",
              "const MAX_PAYLOAD_SIZE = 100 * 1024;\n",
              "\n",
              "function _uploadFiles(inputId, outputId) {\n",
              "  const steps = uploadFilesStep(inputId, outputId);\n",
              "  const outputElement = document.getElementById(outputId);\n",
              "  // Cache steps on the outputElement to make it available for the next call\n",
              "  // to uploadFilesContinue from Python.\n",
              "  outputElement.steps = steps;\n",
              "\n",
              "  return _uploadFilesContinue(outputId);\n",
              "}\n",
              "\n",
              "// This is roughly an async generator (not supported in the browser yet),\n",
              "// where there are multiple asynchronous steps and the Python side is going\n",
              "// to poll for completion of each step.\n",
              "// This uses a Promise to block the python side on completion of each step,\n",
              "// then passes the result of the previous step as the input to the next step.\n",
              "function _uploadFilesContinue(outputId) {\n",
              "  const outputElement = document.getElementById(outputId);\n",
              "  const steps = outputElement.steps;\n",
              "\n",
              "  const next = steps.next(outputElement.lastPromiseValue);\n",
              "  return Promise.resolve(next.value.promise).then((value) => {\n",
              "    // Cache the last promise value to make it available to the next\n",
              "    // step of the generator.\n",
              "    outputElement.lastPromiseValue = value;\n",
              "    return next.value.response;\n",
              "  });\n",
              "}\n",
              "\n",
              "/**\n",
              " * Generator function which is called between each async step of the upload\n",
              " * process.\n",
              " * @param {string} inputId Element ID of the input file picker element.\n",
              " * @param {string} outputId Element ID of the output display.\n",
              " * @return {!Iterable<!Object>} Iterable of next steps.\n",
              " */\n",
              "function* uploadFilesStep(inputId, outputId) {\n",
              "  const inputElement = document.getElementById(inputId);\n",
              "  inputElement.disabled = false;\n",
              "\n",
              "  const outputElement = document.getElementById(outputId);\n",
              "  outputElement.innerHTML = '';\n",
              "\n",
              "  const pickedPromise = new Promise((resolve) => {\n",
              "    inputElement.addEventListener('change', (e) => {\n",
              "      resolve(e.target.files);\n",
              "    });\n",
              "  });\n",
              "\n",
              "  const cancel = document.createElement('button');\n",
              "  inputElement.parentElement.appendChild(cancel);\n",
              "  cancel.textContent = 'Cancel upload';\n",
              "  const cancelPromise = new Promise((resolve) => {\n",
              "    cancel.onclick = () => {\n",
              "      resolve(null);\n",
              "    };\n",
              "  });\n",
              "\n",
              "  // Wait for the user to pick the files.\n",
              "  const files = yield {\n",
              "    promise: Promise.race([pickedPromise, cancelPromise]),\n",
              "    response: {\n",
              "      action: 'starting',\n",
              "    }\n",
              "  };\n",
              "\n",
              "  cancel.remove();\n",
              "\n",
              "  // Disable the input element since further picks are not allowed.\n",
              "  inputElement.disabled = true;\n",
              "\n",
              "  if (!files) {\n",
              "    return {\n",
              "      response: {\n",
              "        action: 'complete',\n",
              "      }\n",
              "    };\n",
              "  }\n",
              "\n",
              "  for (const file of files) {\n",
              "    const li = document.createElement('li');\n",
              "    li.append(span(file.name, {fontWeight: 'bold'}));\n",
              "    li.append(span(\n",
              "        `(${file.type || 'n/a'}) - ${file.size} bytes, ` +\n",
              "        `last modified: ${\n",
              "            file.lastModifiedDate ? file.lastModifiedDate.toLocaleDateString() :\n",
              "                                    'n/a'} - `));\n",
              "    const percent = span('0% done');\n",
              "    li.appendChild(percent);\n",
              "\n",
              "    outputElement.appendChild(li);\n",
              "\n",
              "    const fileDataPromise = new Promise((resolve) => {\n",
              "      const reader = new FileReader();\n",
              "      reader.onload = (e) => {\n",
              "        resolve(e.target.result);\n",
              "      };\n",
              "      reader.readAsArrayBuffer(file);\n",
              "    });\n",
              "    // Wait for the data to be ready.\n",
              "    let fileData = yield {\n",
              "      promise: fileDataPromise,\n",
              "      response: {\n",
              "        action: 'continue',\n",
              "      }\n",
              "    };\n",
              "\n",
              "    // Use a chunked sending to avoid message size limits. See b/62115660.\n",
              "    let position = 0;\n",
              "    do {\n",
              "      const length = Math.min(fileData.byteLength - position, MAX_PAYLOAD_SIZE);\n",
              "      const chunk = new Uint8Array(fileData, position, length);\n",
              "      position += length;\n",
              "\n",
              "      const base64 = btoa(String.fromCharCode.apply(null, chunk));\n",
              "      yield {\n",
              "        response: {\n",
              "          action: 'append',\n",
              "          file: file.name,\n",
              "          data: base64,\n",
              "        },\n",
              "      };\n",
              "\n",
              "      let percentDone = fileData.byteLength === 0 ?\n",
              "          100 :\n",
              "          Math.round((position / fileData.byteLength) * 100);\n",
              "      percent.textContent = `${percentDone}% done`;\n",
              "\n",
              "    } while (position < fileData.byteLength);\n",
              "  }\n",
              "\n",
              "  // All done.\n",
              "  yield {\n",
              "    response: {\n",
              "      action: 'complete',\n",
              "    }\n",
              "  };\n",
              "}\n",
              "\n",
              "scope.google = scope.google || {};\n",
              "scope.google.colab = scope.google.colab || {};\n",
              "scope.google.colab._files = {\n",
              "  _uploadFiles,\n",
              "  _uploadFilesContinue,\n",
              "};\n",
              "})(self);\n",
              "</script> "
            ]
          },
          "metadata": {}
        },
        {
          "output_type": "stream",
          "name": "stdout",
          "text": [
            "Saving imdb_dataset.csv to imdb_dataset.csv\n"
          ]
        }
      ]
    },
    {
      "cell_type": "code",
      "source": [
        "import pandas as pd\n",
        "\n",
        "imdb_df = pd.read_csv(\"imdb_dataset.csv\")\n",
        "\n",
        "print(imdb_df.info())\n",
        "print(imdb_df.head())"
      ],
      "metadata": {
        "colab": {
          "base_uri": "https://localhost:8080/"
        },
        "id": "KFyMoK9AuM_0",
        "outputId": "bfb88d65-b832-4dcb-ff8d-872f66ddd37f"
      },
      "execution_count": 5,
      "outputs": [
        {
          "output_type": "stream",
          "name": "stdout",
          "text": [
            "<class 'pandas.core.frame.DataFrame'>\n",
            "RangeIndex: 4 entries, 0 to 3\n",
            "Data columns (total 10 columns):\n",
            " #   Column        Non-Null Count  Dtype \n",
            "---  ------        --------------  ----- \n",
            " 0   Movie Title   4 non-null      object\n",
            " 1   Release Year  4 non-null      int64 \n",
            " 2   Profit        4 non-null      int64 \n",
            " 3   Producers     4 non-null      object\n",
            " 4   Directors     4 non-null      object\n",
            " 5   Actors        4 non-null      object\n",
            " 6   Language      4 non-null      object\n",
            " 7   Genres        4 non-null      object\n",
            " 8   Budget        4 non-null      int64 \n",
            " 9   Box Office    4 non-null      int64 \n",
            "dtypes: int64(4), object(6)\n",
            "memory usage: 448.0+ bytes\n",
            "None\n",
            "  Movie Title  Release Year   Profit  Producers  Directors          Actors  \\\n",
            "0      Movie1          2020  1000000  Producer1  Director1  Actor1, Actor2   \n",
            "1      Movie2          2019  2000000  Producer2  Director2  Actor2, Actor3   \n",
            "2      Movie3          2018  1500000  Producer1  Director1  Actor1, Actor3   \n",
            "3      Movie4          2021   500000  Producer3  Director3  Actor4, Actor5   \n",
            "\n",
            "  Language            Genres  Budget  Box Office  \n",
            "0  English  Action, Thriller  500000     1500000  \n",
            "1  Spanish             Drama  700000     2700000  \n",
            "2   French            Comedy  600000     2100000  \n",
            "3  English            Horror  300000      800000  \n"
          ]
        }
      ]
    },
    {
      "cell_type": "code",
      "source": [
        "highest_profit_movie = imdb_df.loc[imdb_df['Profit'].idxmax()]\n",
        "print(f\"Movie with the highest profit: {highest_profit_movie['Movie Title']}\")\n",
        "print(f\"Producer(s): {highest_profit_movie['Producers']}\")\n",
        "print(f\"Director(s): {highest_profit_movie['Directors']}\")\n",
        "print(f\"Actors: {highest_profit_movie['Actors']}\")"
      ],
      "metadata": {
        "colab": {
          "base_uri": "https://localhost:8080/"
        },
        "id": "2eqoeyzFvFIa",
        "outputId": "e89274b8-8720-48ee-ee3f-397843df6a75"
      },
      "execution_count": 6,
      "outputs": [
        {
          "output_type": "stream",
          "name": "stdout",
          "text": [
            "Movie with the highest profit: Movie2\n",
            "Producer(s): Producer2\n",
            "Director(s): Director2\n",
            "Actors: Actor2, Actor3\n"
          ]
        }
      ]
    },
    {
      "cell_type": "code",
      "source": [
        "imdb_df['ROI'] = (imdb_df['Profit'] / imdb_df['Budget']) * 100\n",
        "highest_avg_roi_language = imdb_df.groupby('Language')['ROI'].mean().idxmax()\n",
        "print(f\"Language with the highest average ROI: {highest_avg_roi_language}\")"
      ],
      "metadata": {
        "colab": {
          "base_uri": "https://localhost:8080/"
        },
        "id": "uURchPlavFKz",
        "outputId": "bc697b01-209e-4a23-8b6c-54444acad5ed"
      },
      "execution_count": 7,
      "outputs": [
        {
          "output_type": "stream",
          "name": "stdout",
          "text": [
            "Language with the highest average ROI: Spanish\n"
          ]
        }
      ]
    },
    {
      "cell_type": "code",
      "source": [
        "unique_genres = set()\n",
        "imdb_df['Genres'].str.split(', ').apply(unique_genres.update)\n",
        "print(f\"Unique genres: {unique_genres}\")"
      ],
      "metadata": {
        "colab": {
          "base_uri": "https://localhost:8080/"
        },
        "id": "t-SPCVl0vFNa",
        "outputId": "6a60bf21-fd1c-4a94-fd8c-c991c3af2a88"
      },
      "execution_count": 8,
      "outputs": [
        {
          "output_type": "stream",
          "name": "stdout",
          "text": [
            "Unique genres: {'Action', 'Comedy', 'Thriller', 'Drama', 'Horror'}\n"
          ]
        }
      ]
    },
    {
      "cell_type": "code",
      "source": [
        "producers_directors_df = imdb_df[['Movie Title', 'Producers', 'Directors']]\n",
        "print(producers_directors_df)\n",
        "\n",
        "top_3_producers = imdb_df.groupby('Producers')['ROI'].mean().sort_values(ascending=False).head(3)\n",
        "print(f\"Top 3 producers with highest average ROI: {top_3_producers.index.tolist()}\")"
      ],
      "metadata": {
        "colab": {
          "base_uri": "https://localhost:8080/"
        },
        "id": "wzzEBFFyvFUe",
        "outputId": "ffdad4dd-4910-4de5-98c0-3654918e9eed"
      },
      "execution_count": 9,
      "outputs": [
        {
          "output_type": "stream",
          "name": "stdout",
          "text": [
            "  Movie Title  Producers  Directors\n",
            "0      Movie1  Producer1  Director1\n",
            "1      Movie2  Producer2  Director2\n",
            "2      Movie3  Producer1  Director1\n",
            "3      Movie4  Producer3  Director3\n",
            "Top 3 producers with highest average ROI: ['Producer2', 'Producer1', 'Producer3']\n"
          ]
        }
      ]
    },
    {
      "cell_type": "code",
      "source": [
        "from collections import Counter\n",
        "\n",
        "actor_counts = Counter()\n",
        "imdb_df['Actors'].str.split(', ').apply(actor_counts.update)\n",
        "most_frequent_actor = actor_counts.most_common(1)[0][0]\n",
        "print(f\"Actor with the most number of movies: {most_frequent_actor}\")\n",
        "\n",
        "# Deep dive into the movies, genres, and profits for this actor\n",
        "actor_movies = imdb_df[imdb_df['Actors'].str.contains(most_frequent_actor)]\n",
        "print(f\"Movies with {most_frequent_actor}: {actor_movies['Movie Title'].tolist()}\")\n",
        "print(f\"Genres: {actor_movies['Genres'].tolist()}\")\n",
        "print(f\"Profits: {actor_movies['Profit'].tolist()}\")"
      ],
      "metadata": {
        "colab": {
          "base_uri": "https://localhost:8080/"
        },
        "id": "n4kyX90duNCh",
        "outputId": "8a8eec83-a912-4548-c7c1-be27d58b02d8"
      },
      "execution_count": 10,
      "outputs": [
        {
          "output_type": "stream",
          "name": "stdout",
          "text": [
            "Actor with the most number of movies: Actor1\n",
            "Movies with Actor1: ['Movie1', 'Movie3']\n",
            "Genres: ['Action, Thriller', 'Comedy']\n",
            "Profits: [1000000, 1500000]\n"
          ]
        }
      ]
    },
    {
      "cell_type": "code",
      "source": [],
      "metadata": {
        "id": "p28UMUe1uH5R"
      },
      "execution_count": null,
      "outputs": []
    },
    {
      "cell_type": "code",
      "source": [],
      "metadata": {
        "id": "B7oA7wzFuH-T"
      },
      "execution_count": null,
      "outputs": []
    },
    {
      "cell_type": "code",
      "source": [],
      "metadata": {
        "id": "IuNmU_16uIGE"
      },
      "execution_count": null,
      "outputs": []
    }
  ]
}