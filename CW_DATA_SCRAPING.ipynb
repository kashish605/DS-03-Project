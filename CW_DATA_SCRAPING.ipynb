{
  "nbformat": 4,
  "nbformat_minor": 0,
  "metadata": {
    "colab": {
      "provenance": [],
      "authorship_tag": "ABX9TyOGY339A0MpsXXWnvtyeELf",
      "include_colab_link": true
    },
    "kernelspec": {
      "name": "python3",
      "display_name": "Python 3"
    },
    "language_info": {
      "name": "python"
    }
  },
  "cells": [
    {
      "cell_type": "markdown",
      "metadata": {
        "id": "view-in-github",
        "colab_type": "text"
      },
      "source": [
        "<a href=\"https://colab.research.google.com/github/kashish605/DS-03-Project/blob/main/CW_DATA_SCRAPING.ipynb\" target=\"_parent\"><img src=\"https://colab.research.google.com/assets/colab-badge.svg\" alt=\"Open In Colab\"/></a>"
      ]
    },
    {
      "cell_type": "code",
      "execution_count": 2,
      "metadata": {
        "colab": {
          "base_uri": "https://localhost:8080/"
        },
        "id": "6kc4qAcqKxC-",
        "outputId": "108ddb6d-97b1-4d9b-fb92-8875bd57a3e2"
      },
      "outputs": [
        {
          "output_type": "stream",
          "name": "stdout",
          "text": [
            "Requirement already satisfied: requests in /usr/local/lib/python3.10/dist-packages (2.31.0)\n",
            "Requirement already satisfied: charset-normalizer<4,>=2 in /usr/local/lib/python3.10/dist-packages (from requests) (3.3.2)\n",
            "Requirement already satisfied: idna<4,>=2.5 in /usr/local/lib/python3.10/dist-packages (from requests) (3.7)\n",
            "Requirement already satisfied: urllib3<3,>=1.21.1 in /usr/local/lib/python3.10/dist-packages (from requests) (2.0.7)\n",
            "Requirement already satisfied: certifi>=2017.4.17 in /usr/local/lib/python3.10/dist-packages (from requests) (2024.6.2)\n",
            "Requirement already satisfied: beautifulsoup4 in /usr/local/lib/python3.10/dist-packages (4.12.3)\n",
            "Requirement already satisfied: soupsieve>1.2 in /usr/local/lib/python3.10/dist-packages (from beautifulsoup4) (2.5)\n",
            "Requirement already satisfied: pandas in /usr/local/lib/python3.10/dist-packages (2.0.3)\n",
            "Requirement already satisfied: python-dateutil>=2.8.2 in /usr/local/lib/python3.10/dist-packages (from pandas) (2.8.2)\n",
            "Requirement already satisfied: pytz>=2020.1 in /usr/local/lib/python3.10/dist-packages (from pandas) (2023.4)\n",
            "Requirement already satisfied: tzdata>=2022.1 in /usr/local/lib/python3.10/dist-packages (from pandas) (2024.1)\n",
            "Requirement already satisfied: numpy>=1.21.0 in /usr/local/lib/python3.10/dist-packages (from pandas) (1.25.2)\n",
            "Requirement already satisfied: six>=1.5 in /usr/local/lib/python3.10/dist-packages (from python-dateutil>=2.8.2->pandas) (1.16.0)\n"
          ]
        }
      ],
      "source": [
        "!pip install requests\n",
        "!pip install beautifulsoup4\n",
        "!pip install pandas\n"
      ]
    },
    {
      "cell_type": "code",
      "source": [
        "import requests\n",
        "from bs4 import BeautifulSoup\n",
        "import pandas as pd\n",
        "\n",
        "# URL of the IMDB page (replace with the actual URL)\n",
        "url = 'https://www.imdb.com/list/ls058011111/'  # Example list URL\n",
        "\n",
        "response = requests.get(url)\n",
        "soup = BeautifulSoup(response.content, 'html.parser')\n",
        "\n",
        "# Extract movie data\n",
        "movies = []\n",
        "for item in soup.find_all('div', class_='lister-item mode-detail'):\n",
        "    title = item.h3.a.text\n",
        "    cast_list = item.find('p', class_='').find_all('a')\n",
        "    cast = ', '.join([actor.text for actor in cast_list])\n",
        "    movies.append({'Title': title, 'Cast': cast})\n",
        "\n",
        "# Create DataFrame\n",
        "df_movies = pd.DataFrame(movies)\n",
        "df_movies.to_csv('movies_cast.csv', index=False)\n",
        "\n",
        "print(\"Movie data scraped and saved to movies_cast.csv\")\n"
      ],
      "metadata": {
        "colab": {
          "base_uri": "https://localhost:8080/"
        },
        "id": "RT4tWoTHLIp0",
        "outputId": "612ce058-417f-4c91-c298-8858549af2d0"
      },
      "execution_count": 4,
      "outputs": [
        {
          "output_type": "stream",
          "name": "stdout",
          "text": [
            "Movie data scraped and saved to movies_cast.csv\n"
          ]
        }
      ]
    },
    {
      "cell_type": "code",
      "source": [
        "import requests\n",
        "from bs4 import BeautifulSoup\n",
        "import pandas as pd\n",
        "\n",
        "# URL of the Wikipedia page\n",
        "url = 'https://en.wikipedia.org/wiki/List_of_states_and_territories_of_the_United_States'\n",
        "\n",
        "response = requests.get(url)\n",
        "soup = BeautifulSoup(response.content, 'html.parser')\n",
        "\n",
        "# Extract table data\n",
        "table = soup.find('table', class_='wikitable sortable plainrowheaders')\n",
        "rows = table.find_all('tr')\n",
        "\n",
        "# Extract header\n",
        "headers = [header.text.strip() for header in rows[0].find_all('th')]\n",
        "\n",
        "# Extract row data\n",
        "data = []\n",
        "for row in rows[1:]:\n",
        "    cols = row.find_all('td')\n",
        "    state_name = row.find('th').text.strip()\n",
        "    population = cols[2].text.strip() if len(cols) > 2 else None\n",
        "    data.append({'State': state_name, 'Population': population})\n",
        "\n",
        "# Create DataFrame\n",
        "df_states = pd.DataFrame(data)\n",
        "df_states.to_csv('us_states_population.csv', index=False)\n",
        "\n",
        "print(\"State data scraped and saved to us_states_population.csv\")\n"
      ],
      "metadata": {
        "colab": {
          "base_uri": "https://localhost:8080/"
        },
        "id": "wU8EKanAL3Om",
        "outputId": "5b44bb96-3be7-483c-f807-6b51351f32cd"
      },
      "execution_count": 5,
      "outputs": [
        {
          "output_type": "stream",
          "name": "stdout",
          "text": [
            "State data scraped and saved to us_states_population.csv\n"
          ]
        }
      ]
    }
  ]
}