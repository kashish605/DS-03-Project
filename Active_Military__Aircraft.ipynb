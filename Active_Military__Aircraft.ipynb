{
  "nbformat": 4,
  "nbformat_minor": 0,
  "metadata": {
    "colab": {
      "provenance": [],
      "authorship_tag": "ABX9TyMLhGYTuio4OHJZshGiPPau",
      "include_colab_link": true
    },
    "kernelspec": {
      "name": "python3",
      "display_name": "Python 3"
    },
    "language_info": {
      "name": "python"
    }
  },
  "cells": [
    {
      "cell_type": "markdown",
      "metadata": {
        "id": "view-in-github",
        "colab_type": "text"
      },
      "source": [
        "<a href=\"https://colab.research.google.com/github/kashish605/DS-03-Project/blob/main/Active_Military__Aircraft.ipynb\" target=\"_parent\"><img src=\"https://colab.research.google.com/assets/colab-badge.svg\" alt=\"Open In Colab\"/></a>"
      ]
    },
    {
      "cell_type": "code",
      "execution_count": 1,
      "metadata": {
        "colab": {
          "base_uri": "https://localhost:8080/"
        },
        "id": "ogMEzB0zN1j0",
        "outputId": "81da0ac2-5473-4f40-b625-b4a4d3a3701c"
      },
      "outputs": [
        {
          "output_type": "stream",
          "name": "stdout",
          "text": [
            "Requirement already satisfied: requests in /usr/local/lib/python3.10/dist-packages (2.31.0)\n",
            "Requirement already satisfied: charset-normalizer<4,>=2 in /usr/local/lib/python3.10/dist-packages (from requests) (3.3.2)\n",
            "Requirement already satisfied: idna<4,>=2.5 in /usr/local/lib/python3.10/dist-packages (from requests) (3.7)\n",
            "Requirement already satisfied: urllib3<3,>=1.21.1 in /usr/local/lib/python3.10/dist-packages (from requests) (2.0.7)\n",
            "Requirement already satisfied: certifi>=2017.4.17 in /usr/local/lib/python3.10/dist-packages (from requests) (2024.6.2)\n",
            "Requirement already satisfied: beautifulsoup4 in /usr/local/lib/python3.10/dist-packages (4.12.3)\n",
            "Requirement already satisfied: soupsieve>1.2 in /usr/local/lib/python3.10/dist-packages (from beautifulsoup4) (2.5)\n",
            "Requirement already satisfied: pandas in /usr/local/lib/python3.10/dist-packages (2.0.3)\n",
            "Requirement already satisfied: python-dateutil>=2.8.2 in /usr/local/lib/python3.10/dist-packages (from pandas) (2.8.2)\n",
            "Requirement already satisfied: pytz>=2020.1 in /usr/local/lib/python3.10/dist-packages (from pandas) (2023.4)\n",
            "Requirement already satisfied: tzdata>=2022.1 in /usr/local/lib/python3.10/dist-packages (from pandas) (2024.1)\n",
            "Requirement already satisfied: numpy>=1.21.0 in /usr/local/lib/python3.10/dist-packages (from pandas) (1.25.2)\n",
            "Requirement already satisfied: six>=1.5 in /usr/local/lib/python3.10/dist-packages (from python-dateutil>=2.8.2->pandas) (1.16.0)\n"
          ]
        }
      ],
      "source": [
        "!pip install requests\n",
        "!pip install beautifulsoup4\n",
        "!pip install pandas\n"
      ]
    },
    {
      "cell_type": "code",
      "source": [
        "import requests\n",
        "from bs4 import BeautifulSoup\n",
        "import pandas as pd\n",
        "\n",
        "# URL of the Wikipedia page\n",
        "url = 'https://en.wikipedia.org/wiki/List_of_active_Indian_military_aircraft'\n",
        "\n",
        "# Send a GET request to the page\n",
        "response = requests.get(url)\n",
        "response.raise_for_status()  # Check that the request was successful\n",
        "\n",
        "# Parse the page content\n",
        "soup = BeautifulSoup(response.content, 'html.parser')\n",
        "\n",
        "# Find all tables with the class 'wikitable'\n",
        "tables = soup.find_all('table', class_='wikitable')\n",
        "\n",
        "# Loop through each table and extract the data\n",
        "all_data = []\n",
        "for table in tables:\n",
        "    # Extract headers\n",
        "    headers = [header.text.strip() for header in table.find_all('th')]\n",
        "\n",
        "    # Extract rows\n",
        "    rows = table.find_all('tr')[1:]  # Skip the header row\n",
        "\n",
        "    # Extract data from each row, handling potential inconsistencies\n",
        "    data = []\n",
        "    for row in rows:\n",
        "        cols = row.find_all(['td', 'th'])  # Include both 'td' and 'th' for potential header cells within rows\n",
        "        row_data = [col.text.strip() for col in cols]\n",
        "        if row_data:  # Only add rows that have data\n",
        "            data.append(row_data)\n",
        "\n",
        "    # Append the data from this table to the all_data list\n",
        "    all_data.append((headers, data))\n",
        "\n",
        "# Create a DataFrame from the extracted data, handling potential column mismatches\n",
        "df_list = []\n",
        "for headers, data in all_data:\n",
        "    # Pad shorter rows with None to match header length\n",
        "    padded_data = [row + [None] * (len(headers) - len(row)) for row in data]\n",
        "    df = pd.DataFrame(padded_data, columns=headers)\n",
        "    df_list.append(df)\n",
        "\n",
        "# Concatenate DataFrames from different tables if needed\n",
        "if len(df_list) > 1:\n",
        "    df = pd.concat(df_list, ignore_index=True)\n",
        "else:\n",
        "    df = df_list[0]\n",
        "\n",
        "# Save the DataFrame to a CSV file\n",
        "df.to_csv('active_indian_military_aircraft.csv', index=False)\n",
        "\n",
        "print(\"Data scraped and saved to active_indian_military_aircraft.csv\")"
      ],
      "metadata": {
        "colab": {
          "base_uri": "https://localhost:8080/"
        },
        "id": "Cl6yQptDQnjn",
        "outputId": "4d11223b-004d-41cd-e1d2-76d472540c32"
      },
      "execution_count": 3,
      "outputs": [
        {
          "output_type": "stream",
          "name": "stdout",
          "text": [
            "Data scraped and saved to active_indian_military_aircraft.csv\n"
          ]
        }
      ]
    }
  ]
}